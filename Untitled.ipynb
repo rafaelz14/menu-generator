{
 "cells": [
  {
   "cell_type": "code",
   "execution_count": 1,
   "metadata": {},
   "outputs": [],
   "source": [
    "import os\n",
    "import smtplib\n",
    "import imghdr\n",
    "from email.message import EmailMessage"
   ]
  },
  {
   "cell_type": "code",
   "execution_count": 20,
   "metadata": {},
   "outputs": [],
   "source": [
    "EMAIL_ADDRESS = 'rafaelz14@gmail.com'\n",
    "EMAIL_PASSWORD = 'vlpmdxcmijxmdlme'\n",
    "\n",
    "\n",
    "msg = EmailMessage()\n",
    "msg['Subject'] = 'Menu de la semana! ÑomÑom!'\n",
    "msg['From'] = EMAIL_ADDRESS\n",
    "msg['To'] = 'lauracarolina50@gmail.com'\n",
    "\n",
    "with open('menu.xlsx', 'rb') as f:\n",
    "    file_data = f.read()\n",
    "    file_type = imghdr.what(f.name)\n",
    "    file_name = f.name\n",
    "msg.add_attachment(file_data, maintype = 'application' , subtype='xlsx', filename=file_name)\n",
    "#maintype='application', subtype='pdf', filename='example.pdf'"
   ]
  },
  {
   "cell_type": "code",
   "execution_count": 21,
   "metadata": {},
   "outputs": [],
   "source": [
    "with smtplib.SMTP_SSL('smtp.gmail.com', 465) as smtp:\n",
    "    smtp.login(EMAIL_ADDRESS, EMAIL_PASSWORD)\n",
    "    smtp.send_message(msg)"
   ]
  },
  {
   "cell_type": "code",
   "execution_count": null,
   "metadata": {},
   "outputs": [],
   "source": []
  }
 ],
 "metadata": {
  "kernelspec": {
   "display_name": "Python 3 (ipykernel)",
   "language": "python",
   "name": "python3"
  },
  "language_info": {
   "codemirror_mode": {
    "name": "ipython",
    "version": 3
   },
   "file_extension": ".py",
   "mimetype": "text/x-python",
   "name": "python",
   "nbconvert_exporter": "python",
   "pygments_lexer": "ipython3",
   "version": "3.7.4"
  }
 },
 "nbformat": 4,
 "nbformat_minor": 2
}
