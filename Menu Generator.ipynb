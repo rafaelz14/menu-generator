{
 "cells": [
  {
   "cell_type": "code",
   "execution_count": 1,
   "metadata": {},
   "outputs": [],
   "source": [
    "from random import randrange\n",
    "import pandas as pd\n",
    "\n"
   ]
  },
  {
   "cell_type": "code",
   "execution_count": 2,
   "metadata": {},
   "outputs": [],
   "source": [
    "desayunos = [{\n",
    "    \n",
    "    'nombre' : 'huevos con champi y jamon',\n",
    "    'ingredientes' : ['huevos', 'champis', 'jamon iberico'],\n",
    "    'carb' : False\n",
    "    \n",
    "},\n",
    "   {\n",
    "       'nombre' : 'huevos con cebolla calabacin y jamon',\n",
    "       'ingredientes': ['huevos', 'cebolla', 'calabacin', 'jamon'],\n",
    "       'carb' : False\n",
    "   },\n",
    "   {\n",
    "    \n",
    "    'nombre' : 'huevos con tomates asados',\n",
    "    'ingredientes' : ['huevos', 'tomates', 'queso feta'],\n",
    "    'carb' : False\n",
    "    \n",
    "},\n",
    "   {\n",
    "    \n",
    "    'nombre' : 'avenita',\n",
    "    'ingredientes' : ['avena', 'leche', 'canela','mantequilla de mani','frutas'],\n",
    "    'carb' : True\n",
    "    \n",
    "},\n",
    "\n",
    "   {\n",
    "    \n",
    "    'nombre' : 'panquecas de proteina',\n",
    "    'ingredientes' : ['avena', 'huevos', 'platano','chia'],\n",
    "    'carb' : True\n",
    "    \n",
    "},\n",
    "\n",
    "   {\n",
    "    \n",
    "    'nombre' : 'tosta de aguacate',\n",
    "    'ingredientes' : ['pan', 'aguacate', 'sesamo'],\n",
    "    'carb' : True\n",
    "    \n",
    "},\n",
    "\n",
    "   {\n",
    "    \n",
    "    'nombre' : 'huevos revueltos con pimenton asado',\n",
    "    'ingredientes' : ['huevos', 'pimenton rojo', 'jamon iberico'],\n",
    "    'carb' : False\n",
    "    \n",
    "},\n",
    "\n",
    "   {\n",
    "    \n",
    "    'nombre' : 'lomo adobado con vegetales',\n",
    "    'ingredientes' : ['lomo', 'champis', 'tomate'],\n",
    "    'carb' : False\n",
    "    \n",
    "},\n",
    "\n",
    "   {\n",
    "    \n",
    "    'nombre' : 'arepa de verduras',\n",
    "    'ingredientes' : ['harina pan', 'zanahoria'],\n",
    "    'carb' : True\n",
    "    \n",
    "},\n",
    "    {\n",
    "    \n",
    "    'nombre' : 'huevos con puerro',\n",
    "    'ingredientes' : ['huevos', 'puerro', 'jamon'],\n",
    "    'carb' : False\n",
    "    \n",
    "},\n",
    "    {\n",
    "    'nombre' : 'parfait',\n",
    "    'ingredientes' : ['yogur', 'avena','almendras','frutas'],\n",
    "    'carb' : True\n",
    "    \n",
    "},\n",
    "    {\n",
    "    'nombre' : 'fritatta de salmon',\n",
    "    'ingredientes' : ['huevos', 'salmon','puerro'],\n",
    "    'carb' : False\n",
    "    \n",
    "},\n",
    "    \n",
    "]"
   ]
  },
  {
   "cell_type": "code",
   "execution_count": 3,
   "metadata": {},
   "outputs": [
    {
     "data": {
      "text/plain": [
       "12"
      ]
     },
     "execution_count": 3,
     "metadata": {},
     "output_type": "execute_result"
    }
   ],
   "source": [
    "len(desayunos)"
   ]
  },
  {
   "cell_type": "code",
   "execution_count": 4,
   "metadata": {},
   "outputs": [],
   "source": [
    "almuerzos = [{\n",
    "    \n",
    "    'nombre' : 'ensalada de pollo',\n",
    "    'ingredientes' : ['verdes', 'manzana', 'pollo','almendras','queso brie'],\n",
    "    'carb' : False\n",
    "    \n",
    "},\n",
    "   {\n",
    "       'nombre' : 'ensalada de pescado',\n",
    "       'ingredientes': ['verdes', 'tomate', 'pescado', 'mostaza dijon','pepino'],\n",
    "       'carb' : False\n",
    "   },\n",
    "   {\n",
    "    \n",
    "    'nombre' : 'ensalada de camarones',\n",
    "    'ingredientes' : ['camarones congelados', 'verdes', 'pimenton','naranja','frutos rojos'],\n",
    "    'carb' : False\n",
    "    \n",
    "},\n",
    "   {\n",
    "    \n",
    "    'nombre' : 'ensalada de lentejas',\n",
    "    'ingredientes' : ['verdes', 'lentejas', 'aceitunas negras','pimenton','queso feta'],\n",
    "    'carb' : True\n",
    "    \n",
    "},\n",
    "\n",
    "   {\n",
    "    \n",
    "    'nombre' : 'ensalada fresca de huevo',\n",
    "    'ingredientes' : ['verdes', 'huevo hervido', 'jamon iberico','tomate','pepino'],\n",
    "    'carb' : False\n",
    "    \n",
    "},\n",
    "\n",
    "   {\n",
    "    \n",
    "    'nombre' : 'ensalada de garbanzo',\n",
    "    'ingredientes' : ['verdes', 'garbanzo', 'jamon iberico','tomate','pepino'],\n",
    "    'carb' : True\n",
    "    \n",
    "},\n",
    "    {\n",
    "    'nombre' : 'ensalada de pollo a la parrilla',\n",
    "    'ingredientes' : ['verdes', 'pollo', 'tomates','aguacate','cebolla'],\n",
    "    'carb' : False \n",
    "    },\n",
    "\n",
    "   {\n",
    "    \n",
    "    'nombre' : 'hamburguesa',\n",
    "    'ingredientes' : ['carne picada', 'verdes', 'tomate','queso','pepinillos'],\n",
    "    'carb' : False\n",
    "    \n",
    "},\n",
    "\n",
    "   {\n",
    "    \n",
    "    'nombre' : 'pollo al horno con veggies',\n",
    "    'ingredientes' : ['muslo de pollo deshuesado', 'cebolla', 'tomate','calabacin','pimenton'],\n",
    "    'carb' : False\n",
    "    \n",
    "},\n",
    "\n",
    "   {\n",
    "    \n",
    "    'nombre' : 'pasta integral',\n",
    "    'ingredientes' : ['carne picada', 'cebolla','lata de tomate','pimenton','puerro','pasta integral'],\n",
    "    'carb' : True\n",
    "    \n",
    "},\n",
    "    {\n",
    "    \n",
    "    'nombre' : 'bistec a la pobre',\n",
    "    'ingredientes' : ['filetes de res', 'cebolla', 'tomate'],\n",
    "    'carb' : False\n",
    "    \n",
    "},\n",
    "\n",
    "    {\n",
    "    'nombre' : 'lasagna de berenjena',\n",
    "    'ingredientes' : ['berenjena', 'tomate','ajo','cebollas','mozarella'],\n",
    "    'carb' : False\n",
    "    \n",
    "}\n",
    "    \n",
    "]"
   ]
  },
  {
   "cell_type": "code",
   "execution_count": 5,
   "metadata": {},
   "outputs": [
    {
     "data": {
      "text/plain": [
       "12"
      ]
     },
     "execution_count": 5,
     "metadata": {},
     "output_type": "execute_result"
    }
   ],
   "source": [
    "len(almuerzos)"
   ]
  },
  {
   "cell_type": "code",
   "execution_count": 6,
   "metadata": {},
   "outputs": [],
   "source": [
    "cenas = [\n",
    "    \n",
    "    {\n",
    "    \n",
    "    'nombre' : 'lomo con vegetales',\n",
    "    'ingredientes' : ['lomo de cerdo', 'cebolla', 'tomate','pimenton'],\n",
    "    'carb' : False\n",
    "    \n",
    "},\n",
    "   {\n",
    "       'nombre' : 'camarones creole',\n",
    "       'ingredientes': ['camarones', 'cebolla', 'pimenton', 'leche de coco','curcuma','curry','pimenton de la vera','comino'],\n",
    "       'carb' : False\n",
    "   },\n",
    "   {\n",
    "    \n",
    "    'nombre' : 'wok de pollo',\n",
    "    'ingredientes' : ['pechuga de pollo', 'cebolla', 'pimenton','jenjibre','salsa de soja'],\n",
    "    'carb' : False\n",
    "    \n",
    "},\n",
    "   {\n",
    "    \n",
    "    'nombre' : 'risotto de setas',\n",
    "    'ingredientes' : ['arroz', 'caldo de pollo', 'setas'],\n",
    "    'carb' : True\n",
    "    \n",
    "},\n",
    "\n",
    "   {\n",
    "    \n",
    "    'nombre' : 'trucha con esparragos',\n",
    "    'ingredientes' : ['trucha', 'esparragos'],\n",
    "    'carb' : False\n",
    "    \n",
    "},\n",
    "\n",
    "   {\n",
    "       'nombre' : 'ensalada de pescado',\n",
    "       'ingredientes': ['verdes', 'tomate', 'pescado', 'mostaza dijon','pepino'],\n",
    "       'carb' : False\n",
    "},\n",
    "    \n",
    "    {\n",
    "    'nombre' : 'plato italiano',\n",
    "    'ingredientes' : ['jamon iberico', 'aceitunas', 'pepinillos','quesos','almendras'],\n",
    "    'carb' : False \n",
    "},\n",
    "\n",
    "   {\n",
    "    \n",
    "    'nombre' : 'chile de carne',\n",
    "    'ingredientes' : ['carne picada', 'cebolla', 'tomate','pimenton','alubias rojas'],\n",
    "    'carb' : False\n",
    "    \n",
    "},\n",
    "\n",
    "   {\n",
    "    \n",
    "    'nombre' : 'taco destruido',\n",
    "    'ingredientes' : ['alubias rojas', 'cebolla', 'tomate','pimenton'],\n",
    "    'carb' : False\n",
    "    \n",
    "},\n",
    "\n",
    "   {\n",
    "    \n",
    "    'nombre' : 'lomo de cerdo con queso y ensalada',\n",
    "    'ingredientes' : ['lomo', 'queso','verdes','tomate','pepinillo'],\n",
    "    'carb' : False\n",
    "    \n",
    "},\n",
    "\n",
    "    {\n",
    "    'nombre' : 'calabacines rellenos',\n",
    "    'ingredientes' : ['calabacin', 'cebolla','queso','tomate','crema de leche'],\n",
    "    'carb' : False\n",
    "    \n",
    "},\n",
    "\n",
    "    {\n",
    "    'nombre' : 'sopa de lentejas',\n",
    "    'ingredientes' : ['lentejas', 'cebolla','pimenton'],\n",
    "    'carb' : True\n",
    "    \n",
    "},\n",
    "    \n",
    "]"
   ]
  },
  {
   "cell_type": "code",
   "execution_count": 7,
   "metadata": {},
   "outputs": [
    {
     "data": {
      "text/plain": [
       "12"
      ]
     },
     "execution_count": 7,
     "metadata": {},
     "output_type": "execute_result"
    }
   ],
   "source": [
    "len(cenas)"
   ]
  },
  {
   "cell_type": "code",
   "execution_count": null,
   "metadata": {},
   "outputs": [],
   "source": []
  },
  {
   "cell_type": "code",
   "execution_count": 8,
   "metadata": {},
   "outputs": [],
   "source": [
    "# to generate main menu\n",
    "menu =[\n",
    "{\n",
    "    'desayuno' : desayunos[(randrange(0,(len(desayunos))))],\n",
    "    'almuerzo' : almuerzos[(randrange(0,(len(almuerzos))))],\n",
    "    'cena': cenas[(randrange(0,(len(cenas))))]\n",
    "},\n",
    "{\n",
    "    'desayuno' : desayunos[(randrange(0,(len(desayunos))))],\n",
    "    'almuerzo' : almuerzos[(randrange(0,(len(almuerzos))))],\n",
    "    'cena': cenas[(randrange(0,(len(cenas))))]\n",
    "},\n",
    "{\n",
    "    'desayuno' : desayunos[(randrange(0,(len(desayunos))))],\n",
    "    'almuerzo' : almuerzos[(randrange(0,(len(almuerzos))))],\n",
    "    'cena': cenas[(randrange(0,(len(cenas))))]\n",
    "},\n",
    "{\n",
    "    'desayuno' : desayunos[(randrange(0,(len(desayunos))))],\n",
    "    'almuerzo' : almuerzos[(randrange(0,(len(almuerzos))))],\n",
    "    'cena': cenas[(randrange(0,(len(cenas))))]\n",
    "},\n",
    "{\n",
    "    'desayuno' : desayunos[(randrange(0,(len(desayunos))))],\n",
    "    'almuerzo' : almuerzos[(randrange(0,(len(almuerzos))))],\n",
    "    'cena': cenas[(randrange(0,(len(cenas))))]\n",
    "},\n",
    "{\n",
    "    'desayuno' : desayunos[(randrange(0,(len(desayunos))))],\n",
    "    'almuerzo' : almuerzos[(randrange(0,(len(almuerzos))))],\n",
    "    'cena': cenas[(randrange(0,(len(cenas))))]\n",
    "}]\n",
    "\n",
    "\n",
    "\n",
    "\n",
    "\n"
   ]
  },
  {
   "cell_type": "code",
   "execution_count": 9,
   "metadata": {
    "scrolled": false
   },
   "outputs": [
    {
     "data": {
      "text/plain": [
       "[{'desayuno': {'nombre': 'fritatta de salmon',\n",
       "   'ingredientes': ['huevos', 'salmon', 'puerro'],\n",
       "   'carb': False},\n",
       "  'almuerzo': {'nombre': 'ensalada de lentejas',\n",
       "   'ingredientes': ['verdes',\n",
       "    'lentejas',\n",
       "    'aceitunas negras',\n",
       "    'pimenton',\n",
       "    'queso feta'],\n",
       "   'carb': True},\n",
       "  'cena': {'nombre': 'sopa de lentejas',\n",
       "   'ingredientes': ['lentejas', 'cebolla', 'pimenton'],\n",
       "   'carb': True}},\n",
       " {'desayuno': {'nombre': 'huevos con puerro',\n",
       "   'ingredientes': ['huevos', 'puerro', 'jamon'],\n",
       "   'carb': False},\n",
       "  'almuerzo': {'nombre': 'bistec a la pobre',\n",
       "   'ingredientes': ['filetes de res', 'cebolla', 'tomate'],\n",
       "   'carb': False},\n",
       "  'cena': {'nombre': 'sopa de lentejas',\n",
       "   'ingredientes': ['lentejas', 'cebolla', 'pimenton'],\n",
       "   'carb': True}},\n",
       " {'desayuno': {'nombre': 'huevos con tomates asados',\n",
       "   'ingredientes': ['huevos', 'tomates', 'queso feta'],\n",
       "   'carb': False},\n",
       "  'almuerzo': {'nombre': 'ensalada fresca de huevo',\n",
       "   'ingredientes': ['verdes',\n",
       "    'huevo hervido',\n",
       "    'jamon iberico',\n",
       "    'tomate',\n",
       "    'pepino'],\n",
       "   'carb': False},\n",
       "  'cena': {'nombre': 'lomo con vegetales',\n",
       "   'ingredientes': ['lomo de cerdo', 'cebolla', 'tomate', 'pimenton'],\n",
       "   'carb': False}},\n",
       " {'desayuno': {'nombre': 'avenita',\n",
       "   'ingredientes': ['avena',\n",
       "    'leche',\n",
       "    'canela',\n",
       "    'mantequilla de mani',\n",
       "    'frutas'],\n",
       "   'carb': True},\n",
       "  'almuerzo': {'nombre': 'ensalada de pescado',\n",
       "   'ingredientes': ['verdes', 'tomate', 'pescado', 'mostaza dijon', 'pepino'],\n",
       "   'carb': False},\n",
       "  'cena': {'nombre': 'plato italiano',\n",
       "   'ingredientes': ['jamon iberico',\n",
       "    'aceitunas',\n",
       "    'pepinillos',\n",
       "    'quesos',\n",
       "    'almendras'],\n",
       "   'carb': False}},\n",
       " {'desayuno': {'nombre': 'fritatta de salmon',\n",
       "   'ingredientes': ['huevos', 'salmon', 'puerro'],\n",
       "   'carb': False},\n",
       "  'almuerzo': {'nombre': 'hamburguesa',\n",
       "   'ingredientes': ['carne picada', 'verdes', 'tomate', 'queso', 'pepinillos'],\n",
       "   'carb': False},\n",
       "  'cena': {'nombre': 'risotto de setas',\n",
       "   'ingredientes': ['arroz', 'caldo de pollo', 'setas'],\n",
       "   'carb': True}},\n",
       " {'desayuno': {'nombre': 'panquecas de proteina',\n",
       "   'ingredientes': ['avena', 'huevos', 'platano', 'chia'],\n",
       "   'carb': True},\n",
       "  'almuerzo': {'nombre': 'hamburguesa',\n",
       "   'ingredientes': ['carne picada', 'verdes', 'tomate', 'queso', 'pepinillos'],\n",
       "   'carb': False},\n",
       "  'cena': {'nombre': 'ensalada de pescado',\n",
       "   'ingredientes': ['verdes', 'tomate', 'pescado', 'mostaza dijon', 'pepino'],\n",
       "   'carb': False}}]"
      ]
     },
     "execution_count": 9,
     "metadata": {},
     "output_type": "execute_result"
    }
   ],
   "source": [
    "menu"
   ]
  },
  {
   "cell_type": "code",
   "execution_count": 10,
   "metadata": {},
   "outputs": [],
   "source": [
    "# to get list of all meals and compare\n",
    "desayunos_list = []\n",
    "almuerzos_list = []\n",
    "cenas_list =[]\n",
    "\n",
    "for comida in range (0,len(menu)):\n",
    "    desayunos_list.append(menu[comida].get('desayuno').get('nombre'))\n",
    "    almuerzos_list.append(menu[comida].get('almuerzo').get('nombre'))\n",
    "    cenas_list.append(menu[comida].get('cena').get('nombre'))"
   ]
  },
  {
   "cell_type": "code",
   "execution_count": 11,
   "metadata": {},
   "outputs": [
    {
     "data": {
      "text/plain": [
       "['fritatta de salmon',\n",
       " 'huevos con puerro',\n",
       " 'huevos con tomates asados',\n",
       " 'avenita',\n",
       " 'fritatta de salmon',\n",
       " 'panquecas de proteina']"
      ]
     },
     "execution_count": 11,
     "metadata": {},
     "output_type": "execute_result"
    }
   ],
   "source": [
    "desayunos_list"
   ]
  },
  {
   "cell_type": "code",
   "execution_count": 12,
   "metadata": {},
   "outputs": [
    {
     "data": {
      "text/plain": [
       "['ensalada de lentejas',\n",
       " 'bistec a la pobre',\n",
       " 'ensalada fresca de huevo',\n",
       " 'ensalada de pescado',\n",
       " 'hamburguesa',\n",
       " 'hamburguesa']"
      ]
     },
     "execution_count": 12,
     "metadata": {},
     "output_type": "execute_result"
    }
   ],
   "source": [
    "almuerzos_list"
   ]
  },
  {
   "cell_type": "code",
   "execution_count": 13,
   "metadata": {},
   "outputs": [
    {
     "data": {
      "text/plain": [
       "['sopa de lentejas',\n",
       " 'sopa de lentejas',\n",
       " 'lomo con vegetales',\n",
       " 'plato italiano',\n",
       " 'risotto de setas',\n",
       " 'ensalada de pescado']"
      ]
     },
     "execution_count": 13,
     "metadata": {},
     "output_type": "execute_result"
    }
   ],
   "source": [
    "cenas_list"
   ]
  },
  {
   "cell_type": "code",
   "execution_count": 15,
   "metadata": {},
   "outputs": [
    {
     "name": "stdout",
     "output_type": "stream",
     "text": [
      "[4]\n",
      "[5]\n",
      "[1]\n"
     ]
    }
   ],
   "source": [
    "def find_repeated (test_list):\n",
    "    oc_set = set()\n",
    "    res = []\n",
    "    for idx, val in enumerate(test_list):\n",
    "        if val not in oc_set:\n",
    "            oc_set.add(val)         \n",
    "        else:\n",
    "            res.append(idx)   \n",
    "    return (res)\n",
    "\n"
   ]
  },
  {
   "cell_type": "code",
   "execution_count": 16,
   "metadata": {},
   "outputs": [],
   "source": [
    "\n",
    "to_replace = find_repeated(desayunos_list)\n",
    "while len(to_replace)>0:\n",
    "    for repeated in to_replace:\n",
    "        menu[repeated]['desayuno'] = desayunos[(randrange(0,(len(desayunos))))]\n",
    "        desayunos_list =[]\n",
    "        for comida in range (0,len(menu)):\n",
    "            desayunos_list.append(menu[comida].get('desayuno').get('nombre'))\n",
    "    to_replace = find_repeated(desayunos_list)\n",
    "    \n",
    "\n",
    "to_replace = find_repeated(almuerzos_list)\n",
    "while len(to_replace)>0:\n",
    "    for repeated in to_replace:\n",
    "        menu[repeated]['almuerzo'] = almuerzos[(randrange(0,(len(almuerzos))))]\n",
    "        almuerzos_list =[]\n",
    "        for comida in range (0,len(menu)):\n",
    "            almuerzos_list.append(menu[comida].get('almuerzo').get('nombre'))\n",
    "    to_replace = find_repeated(almuerzos_list)\n",
    "    \n",
    "\n",
    "to_replace = find_repeated(cenas_list)\n",
    "while len(to_replace)>0:\n",
    "    for repeated in to_replace:\n",
    "        menu[repeated]['cena'] = cenas[(randrange(0,(len(cenas))))]\n",
    "        cenas_list =[]\n",
    "        for comida in range (0,len(menu)):\n",
    "            cenas_list.append(menu[comida].get('cena').get('nombre'))\n",
    "    to_replace = find_repeated(cenas_list)\n",
    "        "
   ]
  },
  {
   "cell_type": "code",
   "execution_count": null,
   "metadata": {},
   "outputs": [],
   "source": []
  },
  {
   "cell_type": "code",
   "execution_count": 17,
   "metadata": {},
   "outputs": [
    {
     "data": {
      "text/plain": [
       "['ensalada de lentejas',\n",
       " 'bistec a la pobre',\n",
       " 'ensalada fresca de huevo',\n",
       " 'ensalada de pescado',\n",
       " 'hamburguesa',\n",
       " 'ensalada de garbanzo']"
      ]
     },
     "execution_count": 17,
     "metadata": {},
     "output_type": "execute_result"
    }
   ],
   "source": [
    "almuerzos_list"
   ]
  },
  {
   "cell_type": "code",
   "execution_count": 18,
   "metadata": {},
   "outputs": [
    {
     "data": {
      "text/plain": [
       "['fritatta de salmon',\n",
       " 'huevos con puerro',\n",
       " 'huevos con tomates asados',\n",
       " 'avenita',\n",
       " 'lomo adobado con vegetales',\n",
       " 'panquecas de proteina']"
      ]
     },
     "execution_count": 18,
     "metadata": {},
     "output_type": "execute_result"
    }
   ],
   "source": [
    "desayunos_list"
   ]
  },
  {
   "cell_type": "code",
   "execution_count": 19,
   "metadata": {},
   "outputs": [
    {
     "data": {
      "text/plain": [
       "['sopa de lentejas',\n",
       " 'lomo con vegetales',\n",
       " 'trucha con esparragos',\n",
       " 'plato italiano',\n",
       " 'risotto de setas',\n",
       " 'ensalada de pescado']"
      ]
     },
     "execution_count": 19,
     "metadata": {},
     "output_type": "execute_result"
    }
   ],
   "source": [
    "cenas_list"
   ]
  },
  {
   "cell_type": "code",
   "execution_count": 25,
   "metadata": {},
   "outputs": [],
   "source": [
    "menu_lunes = [desayunos_list[0],almuerzos_list[0],cenas_list[0]]\n",
    "menu_martes = [desayunos_list[1],almuerzos_list[1],cenas_list[1]]\n",
    "menu_miercoles = [desayunos_list[2],almuerzos_list[2],cenas_list[2]]\n",
    "menu_jueves = [desayunos_list[3],almuerzos_list[3],cenas_list[3]]\n",
    "menu_viernes = [desayunos_list[4],almuerzos_list[4],cenas_list[4]]\n",
    "menu_sabado = [desayunos_list[5],almuerzos_list[5],cenas_list[5]]"
   ]
  },
  {
   "cell_type": "code",
   "execution_count": 26,
   "metadata": {},
   "outputs": [
    {
     "data": {
      "text/plain": [
       "['fritatta de salmon', 'ensalada de lentejas', 'sopa de lentejas']"
      ]
     },
     "execution_count": 26,
     "metadata": {},
     "output_type": "execute_result"
    }
   ],
   "source": [
    "menu_lunes"
   ]
  },
  {
   "cell_type": "code",
   "execution_count": 27,
   "metadata": {},
   "outputs": [],
   "source": [
    "fullmenu = [menu_lunes, menu_martes, menu_miercoles, menu_jueves, menu_viernes, menu_sabado]"
   ]
  },
  {
   "cell_type": "code",
   "execution_count": 42,
   "metadata": {},
   "outputs": [],
   "source": [
    "df = pd.DataFrame (data = fullmenu)"
   ]
  },
  {
   "cell_type": "code",
   "execution_count": 43,
   "metadata": {},
   "outputs": [
    {
     "data": {
      "text/html": [
       "<div>\n",
       "<style scoped>\n",
       "    .dataframe tbody tr th:only-of-type {\n",
       "        vertical-align: middle;\n",
       "    }\n",
       "\n",
       "    .dataframe tbody tr th {\n",
       "        vertical-align: top;\n",
       "    }\n",
       "\n",
       "    .dataframe thead th {\n",
       "        text-align: right;\n",
       "    }\n",
       "</style>\n",
       "<table border=\"1\" class=\"dataframe\">\n",
       "  <thead>\n",
       "    <tr style=\"text-align: right;\">\n",
       "      <th></th>\n",
       "      <th>0</th>\n",
       "      <th>1</th>\n",
       "      <th>2</th>\n",
       "    </tr>\n",
       "  </thead>\n",
       "  <tbody>\n",
       "    <tr>\n",
       "      <th>0</th>\n",
       "      <td>fritatta de salmon</td>\n",
       "      <td>ensalada de lentejas</td>\n",
       "      <td>sopa de lentejas</td>\n",
       "    </tr>\n",
       "    <tr>\n",
       "      <th>1</th>\n",
       "      <td>huevos con puerro</td>\n",
       "      <td>bistec a la pobre</td>\n",
       "      <td>lomo con vegetales</td>\n",
       "    </tr>\n",
       "    <tr>\n",
       "      <th>2</th>\n",
       "      <td>huevos con tomates asados</td>\n",
       "      <td>ensalada fresca de huevo</td>\n",
       "      <td>trucha con esparragos</td>\n",
       "    </tr>\n",
       "    <tr>\n",
       "      <th>3</th>\n",
       "      <td>avenita</td>\n",
       "      <td>ensalada de pescado</td>\n",
       "      <td>plato italiano</td>\n",
       "    </tr>\n",
       "    <tr>\n",
       "      <th>4</th>\n",
       "      <td>lomo adobado con vegetales</td>\n",
       "      <td>hamburguesa</td>\n",
       "      <td>risotto de setas</td>\n",
       "    </tr>\n",
       "  </tbody>\n",
       "</table>\n",
       "</div>"
      ],
      "text/plain": [
       "                            0                         1                      2\n",
       "0          fritatta de salmon      ensalada de lentejas       sopa de lentejas\n",
       "1           huevos con puerro         bistec a la pobre     lomo con vegetales\n",
       "2   huevos con tomates asados  ensalada fresca de huevo  trucha con esparragos\n",
       "3                     avenita       ensalada de pescado         plato italiano\n",
       "4  lomo adobado con vegetales               hamburguesa       risotto de setas"
      ]
     },
     "execution_count": 43,
     "metadata": {},
     "output_type": "execute_result"
    }
   ],
   "source": [
    "df.head()"
   ]
  },
  {
   "cell_type": "code",
   "execution_count": 44,
   "metadata": {},
   "outputs": [],
   "source": [
    "df = df.T"
   ]
  },
  {
   "cell_type": "code",
   "execution_count": 45,
   "metadata": {},
   "outputs": [
    {
     "data": {
      "text/html": [
       "<div>\n",
       "<style scoped>\n",
       "    .dataframe tbody tr th:only-of-type {\n",
       "        vertical-align: middle;\n",
       "    }\n",
       "\n",
       "    .dataframe tbody tr th {\n",
       "        vertical-align: top;\n",
       "    }\n",
       "\n",
       "    .dataframe thead th {\n",
       "        text-align: right;\n",
       "    }\n",
       "</style>\n",
       "<table border=\"1\" class=\"dataframe\">\n",
       "  <thead>\n",
       "    <tr style=\"text-align: right;\">\n",
       "      <th></th>\n",
       "      <th>0</th>\n",
       "      <th>1</th>\n",
       "      <th>2</th>\n",
       "      <th>3</th>\n",
       "      <th>4</th>\n",
       "      <th>5</th>\n",
       "    </tr>\n",
       "  </thead>\n",
       "  <tbody>\n",
       "    <tr>\n",
       "      <th>0</th>\n",
       "      <td>fritatta de salmon</td>\n",
       "      <td>huevos con puerro</td>\n",
       "      <td>huevos con tomates asados</td>\n",
       "      <td>avenita</td>\n",
       "      <td>lomo adobado con vegetales</td>\n",
       "      <td>panquecas de proteina</td>\n",
       "    </tr>\n",
       "    <tr>\n",
       "      <th>1</th>\n",
       "      <td>ensalada de lentejas</td>\n",
       "      <td>bistec a la pobre</td>\n",
       "      <td>ensalada fresca de huevo</td>\n",
       "      <td>ensalada de pescado</td>\n",
       "      <td>hamburguesa</td>\n",
       "      <td>ensalada de garbanzo</td>\n",
       "    </tr>\n",
       "    <tr>\n",
       "      <th>2</th>\n",
       "      <td>sopa de lentejas</td>\n",
       "      <td>lomo con vegetales</td>\n",
       "      <td>trucha con esparragos</td>\n",
       "      <td>plato italiano</td>\n",
       "      <td>risotto de setas</td>\n",
       "      <td>ensalada de pescado</td>\n",
       "    </tr>\n",
       "  </tbody>\n",
       "</table>\n",
       "</div>"
      ],
      "text/plain": [
       "                      0                   1                          2  \\\n",
       "0    fritatta de salmon   huevos con puerro  huevos con tomates asados   \n",
       "1  ensalada de lentejas   bistec a la pobre   ensalada fresca de huevo   \n",
       "2      sopa de lentejas  lomo con vegetales      trucha con esparragos   \n",
       "\n",
       "                     3                           4                      5  \n",
       "0              avenita  lomo adobado con vegetales  panquecas de proteina  \n",
       "1  ensalada de pescado                 hamburguesa   ensalada de garbanzo  \n",
       "2       plato italiano            risotto de setas    ensalada de pescado  "
      ]
     },
     "execution_count": 45,
     "metadata": {},
     "output_type": "execute_result"
    }
   ],
   "source": [
    "df.head()"
   ]
  },
  {
   "cell_type": "code",
   "execution_count": 50,
   "metadata": {},
   "outputs": [],
   "source": [
    "df.rename(columns={0: \"Lunes\", 1: \"Martes\", 2: \"Miercoles\", 3: \"Jueves\", 4: \"Viernes\", 5: \"Sabado\"}, inplace = True)"
   ]
  },
  {
   "cell_type": "code",
   "execution_count": 53,
   "metadata": {},
   "outputs": [],
   "source": [
    "df.rename(index={0: \"Desayuno\", 1: \"Almuerzo\", 2: \"Cena\"}, inplace = True)"
   ]
  },
  {
   "cell_type": "code",
   "execution_count": 54,
   "metadata": {},
   "outputs": [
    {
     "data": {
      "text/html": [
       "<div>\n",
       "<style scoped>\n",
       "    .dataframe tbody tr th:only-of-type {\n",
       "        vertical-align: middle;\n",
       "    }\n",
       "\n",
       "    .dataframe tbody tr th {\n",
       "        vertical-align: top;\n",
       "    }\n",
       "\n",
       "    .dataframe thead th {\n",
       "        text-align: right;\n",
       "    }\n",
       "</style>\n",
       "<table border=\"1\" class=\"dataframe\">\n",
       "  <thead>\n",
       "    <tr style=\"text-align: right;\">\n",
       "      <th></th>\n",
       "      <th>Lunes</th>\n",
       "      <th>Martes</th>\n",
       "      <th>Miercoles</th>\n",
       "      <th>Jueves</th>\n",
       "      <th>Viernes</th>\n",
       "      <th>Sabado</th>\n",
       "    </tr>\n",
       "  </thead>\n",
       "  <tbody>\n",
       "    <tr>\n",
       "      <th>Desayuno</th>\n",
       "      <td>fritatta de salmon</td>\n",
       "      <td>huevos con puerro</td>\n",
       "      <td>huevos con tomates asados</td>\n",
       "      <td>avenita</td>\n",
       "      <td>lomo adobado con vegetales</td>\n",
       "      <td>panquecas de proteina</td>\n",
       "    </tr>\n",
       "    <tr>\n",
       "      <th>Almuerzo</th>\n",
       "      <td>ensalada de lentejas</td>\n",
       "      <td>bistec a la pobre</td>\n",
       "      <td>ensalada fresca de huevo</td>\n",
       "      <td>ensalada de pescado</td>\n",
       "      <td>hamburguesa</td>\n",
       "      <td>ensalada de garbanzo</td>\n",
       "    </tr>\n",
       "    <tr>\n",
       "      <th>Cena</th>\n",
       "      <td>sopa de lentejas</td>\n",
       "      <td>lomo con vegetales</td>\n",
       "      <td>trucha con esparragos</td>\n",
       "      <td>plato italiano</td>\n",
       "      <td>risotto de setas</td>\n",
       "      <td>ensalada de pescado</td>\n",
       "    </tr>\n",
       "  </tbody>\n",
       "</table>\n",
       "</div>"
      ],
      "text/plain": [
       "                         Lunes              Martes                  Miercoles  \\\n",
       "Desayuno    fritatta de salmon   huevos con puerro  huevos con tomates asados   \n",
       "Almuerzo  ensalada de lentejas   bistec a la pobre   ensalada fresca de huevo   \n",
       "Cena          sopa de lentejas  lomo con vegetales      trucha con esparragos   \n",
       "\n",
       "                       Jueves                     Viernes  \\\n",
       "Desayuno              avenita  lomo adobado con vegetales   \n",
       "Almuerzo  ensalada de pescado                 hamburguesa   \n",
       "Cena           plato italiano            risotto de setas   \n",
       "\n",
       "                         Sabado  \n",
       "Desayuno  panquecas de proteina  \n",
       "Almuerzo   ensalada de garbanzo  \n",
       "Cena        ensalada de pescado  "
      ]
     },
     "execution_count": 54,
     "metadata": {},
     "output_type": "execute_result"
    }
   ],
   "source": [
    "df.head()"
   ]
  },
  {
   "cell_type": "code",
   "execution_count": 57,
   "metadata": {},
   "outputs": [],
   "source": [
    "    df.to_csv('menu.csv')"
   ]
  },
  {
   "cell_type": "code",
   "execution_count": 28,
   "metadata": {
    "scrolled": true
   },
   "outputs": [
    {
     "data": {
      "text/plain": [
       "[['fritatta de salmon', 'ensalada de lentejas', 'sopa de lentejas'],\n",
       " ['huevos con puerro', 'bistec a la pobre', 'lomo con vegetales'],\n",
       " ['huevos con tomates asados',\n",
       "  'ensalada fresca de huevo',\n",
       "  'trucha con esparragos'],\n",
       " ['avenita', 'ensalada de pescado', 'plato italiano'],\n",
       " ['lomo adobado con vegetales', 'hamburguesa', 'risotto de setas'],\n",
       " ['panquecas de proteina', 'ensalada de garbanzo', 'ensalada de pescado']]"
      ]
     },
     "execution_count": 28,
     "metadata": {},
     "output_type": "execute_result"
    }
   ],
   "source": [
    "fullmenu"
   ]
  },
  {
   "cell_type": "code",
   "execution_count": 20,
   "metadata": {},
   "outputs": [],
   "source": [
    "menu_to_df = {\n",
    "    'Lunes' : [[desayunos_list[0],almuerzos_list[0],cenas_list[0]]],\n",
    "    'Martes' : [[desayunos_list[1],almuerzos_list[1],cenas_list[1]]],\n",
    "    'Miercoles' : [[desayunos_list[2],almuerzos_list[2],cenas_list[2]]],\n",
    "    'Jueves' : [[desayunos_list[3],almuerzos_list[3],cenas_list[3]]],\n",
    "    'Viernes' : [[desayunos_list[4],almuerzos_list[4],cenas_list[4]]],\n",
    "    'Sabado' : [[desayunos_list[5],almuerzos_list[5],cenas_list[5]]]\n",
    "}"
   ]
  },
  {
   "cell_type": "code",
   "execution_count": null,
   "metadata": {},
   "outputs": [],
   "source": [
    "df = pd.DataFrame(data=menu_to_df)"
   ]
  },
  {
   "cell_type": "code",
   "execution_count": null,
   "metadata": {},
   "outputs": [],
   "source": [
    "df.head()"
   ]
  },
  {
   "cell_type": "code",
   "execution_count": null,
   "metadata": {},
   "outputs": [],
   "source": [
    "!pip install --upgrade pandas\n"
   ]
  },
  {
   "cell_type": "code",
   "execution_count": 23,
   "metadata": {},
   "outputs": [],
   "source": [
    "df = pd.json_normalize(menu_to_df)\n"
   ]
  },
  {
   "cell_type": "code",
   "execution_count": 24,
   "metadata": {},
   "outputs": [
    {
     "data": {
      "text/html": [
       "<div>\n",
       "<style scoped>\n",
       "    .dataframe tbody tr th:only-of-type {\n",
       "        vertical-align: middle;\n",
       "    }\n",
       "\n",
       "    .dataframe tbody tr th {\n",
       "        vertical-align: top;\n",
       "    }\n",
       "\n",
       "    .dataframe thead th {\n",
       "        text-align: right;\n",
       "    }\n",
       "</style>\n",
       "<table border=\"1\" class=\"dataframe\">\n",
       "  <thead>\n",
       "    <tr style=\"text-align: right;\">\n",
       "      <th></th>\n",
       "      <th>Lunes</th>\n",
       "      <th>Martes</th>\n",
       "      <th>Miercoles</th>\n",
       "      <th>Jueves</th>\n",
       "      <th>Viernes</th>\n",
       "      <th>Sabado</th>\n",
       "    </tr>\n",
       "  </thead>\n",
       "  <tbody>\n",
       "    <tr>\n",
       "      <th>0</th>\n",
       "      <td>[[fritatta de salmon, ensalada de lentejas, so...</td>\n",
       "      <td>[[huevos con puerro, bistec a la pobre, lomo c...</td>\n",
       "      <td>[[huevos con tomates asados, ensalada fresca d...</td>\n",
       "      <td>[[avenita, ensalada de pescado, plato italiano]]</td>\n",
       "      <td>[[lomo adobado con vegetales, hamburguesa, ris...</td>\n",
       "      <td>[[panquecas de proteina, ensalada de garbanzo,...</td>\n",
       "    </tr>\n",
       "  </tbody>\n",
       "</table>\n",
       "</div>"
      ],
      "text/plain": [
       "                                               Lunes  \\\n",
       "0  [[fritatta de salmon, ensalada de lentejas, so...   \n",
       "\n",
       "                                              Martes  \\\n",
       "0  [[huevos con puerro, bistec a la pobre, lomo c...   \n",
       "\n",
       "                                           Miercoles  \\\n",
       "0  [[huevos con tomates asados, ensalada fresca d...   \n",
       "\n",
       "                                             Jueves  \\\n",
       "0  [[avenita, ensalada de pescado, plato italiano]]   \n",
       "\n",
       "                                             Viernes  \\\n",
       "0  [[lomo adobado con vegetales, hamburguesa, ris...   \n",
       "\n",
       "                                              Sabado  \n",
       "0  [[panquecas de proteina, ensalada de garbanzo,...  "
      ]
     },
     "execution_count": 24,
     "metadata": {},
     "output_type": "execute_result"
    }
   ],
   "source": [
    "df.head()"
   ]
  },
  {
   "cell_type": "code",
   "execution_count": null,
   "metadata": {},
   "outputs": [],
   "source": [
    "conda update pandas"
   ]
  },
  {
   "cell_type": "code",
   "execution_count": null,
   "metadata": {},
   "outputs": [],
   "source": [
    "menu_lunes"
   ]
  },
  {
   "cell_type": "code",
   "execution_count": null,
   "metadata": {},
   "outputs": [],
   "source": [
    "import pandas as pd\n",
    "df = pd.DataFrame()"
   ]
  },
  {
   "cell_type": "code",
   "execution_count": null,
   "metadata": {},
   "outputs": [],
   "source": [
    "df.columns =['Lunes', 'Martes','Miercoles','Jueves','Viernes','Sabado']\n",
    "  \n",
    "# Change the row indexes\n",
    "df.index = ['Desayuno', 'Almuerzo', 'Cena']\n"
   ]
  },
  {
   "cell_type": "code",
   "execution_count": null,
   "metadata": {},
   "outputs": [],
   "source": [
    "menu"
   ]
  },
  {
   "cell_type": "code",
   "execution_count": null,
   "metadata": {},
   "outputs": [],
   "source": [
    "cenas_list"
   ]
  },
  {
   "cell_type": "code",
   "execution_count": null,
   "metadata": {},
   "outputs": [],
   "source": [
    "cenas_list[2]"
   ]
  },
  {
   "cell_type": "code",
   "execution_count": null,
   "metadata": {},
   "outputs": [],
   "source": [
    "menu[3]"
   ]
  },
  {
   "cell_type": "code",
   "execution_count": null,
   "metadata": {},
   "outputs": [],
   "source": [
    "cenas_list"
   ]
  },
  {
   "cell_type": "code",
   "execution_count": null,
   "metadata": {},
   "outputs": [],
   "source": [
    "menu[4]['cenas'] = cenas[(randrange(0,(len(cenas))))]"
   ]
  },
  {
   "cell_type": "code",
   "execution_count": null,
   "metadata": {},
   "outputs": [],
   "source": [
    "menu[4].get('cena')"
   ]
  },
  {
   "cell_type": "markdown",
   "metadata": {},
   "source": []
  },
  {
   "cell_type": "code",
   "execution_count": null,
   "metadata": {},
   "outputs": [],
   "source": [
    "menu[3]"
   ]
  },
  {
   "cell_type": "code",
   "execution_count": null,
   "metadata": {},
   "outputs": [],
   "source": [
    "for comida in range (0,len(menu)):\n",
    "    print (menu[comida].get('desayuno').get('nombre'))\n",
    "    print (menu[comida].get('almuerzo').get('nombre'))\n",
    "    print (menu[comida].get('cena').get('nombre'))"
   ]
  },
  {
   "cell_type": "code",
   "execution_count": null,
   "metadata": {},
   "outputs": [],
   "source": [
    "for comida in range (0,len(menu)):\n",
    "    print (menu[comida].get('desayuno').get('ingredientes'))\n",
    "    print (menu[comida].get('almuerzo').get('ingredientes'))\n",
    "    print (menu[comida].get('cena').get('ingredientes'))"
   ]
  },
  {
   "cell_type": "code",
   "execution_count": null,
   "metadata": {},
   "outputs": [],
   "source": []
  },
  {
   "cell_type": "code",
   "execution_count": null,
   "metadata": {},
   "outputs": [],
   "source": []
  },
  {
   "cell_type": "code",
   "execution_count": null,
   "metadata": {},
   "outputs": [],
   "source": [
    "desayunos[0].get('nombre')"
   ]
  },
  {
   "cell_type": "code",
   "execution_count": null,
   "metadata": {},
   "outputs": [],
   "source": [
    "len(desayunos)"
   ]
  },
  {
   "cell_type": "code",
   "execution_count": null,
   "metadata": {},
   "outputs": [],
   "source": [
    "menu = [desayunos, almuerzos, cenas]"
   ]
  },
  {
   "cell_type": "code",
   "execution_count": 65,
   "metadata": {},
   "outputs": [
    {
     "data": {
      "text/plain": [
       "['huevos', 'salmon', 'puerro']"
      ]
     },
     "execution_count": 65,
     "metadata": {},
     "output_type": "execute_result"
    }
   ],
   "source": [
    "menu[0]['desayuno']['ingredientes']"
   ]
  },
  {
   "cell_type": "code",
   "execution_count": 58,
   "metadata": {},
   "outputs": [
    {
     "ename": "KeyError",
     "evalue": "0",
     "output_type": "error",
     "traceback": [
      "\u001b[0;31m---------------------------------------------------------------------------\u001b[0m",
      "\u001b[0;31mKeyError\u001b[0m                                  Traceback (most recent call last)",
      "\u001b[0;32m/var/folders/hk/wyg278m13k99lx6jl8q9_4h80000gn/T/ipykernel_30359/2923701650.py\u001b[0m in \u001b[0;36m<module>\u001b[0;34m\u001b[0m\n\u001b[1;32m      1\u001b[0m \u001b[0mlista_de_compra\u001b[0m \u001b[0;34m=\u001b[0m \u001b[0;34m[\u001b[0m\u001b[0;34m]\u001b[0m\u001b[0;34m\u001b[0m\u001b[0;34m\u001b[0m\u001b[0m\n\u001b[1;32m      2\u001b[0m \u001b[0;32mfor\u001b[0m \u001b[0mcomidas\u001b[0m \u001b[0;32min\u001b[0m \u001b[0mmenu\u001b[0m\u001b[0;34m:\u001b[0m\u001b[0;34m\u001b[0m\u001b[0;34m\u001b[0m\u001b[0m\n\u001b[0;32m----> 3\u001b[0;31m     \u001b[0mlista_de_compra\u001b[0m \u001b[0;34m=\u001b[0m \u001b[0mlista_de_compra\u001b[0m \u001b[0;34m+\u001b[0m \u001b[0mcomidas\u001b[0m\u001b[0;34m[\u001b[0m\u001b[0;36m0\u001b[0m\u001b[0;34m]\u001b[0m\u001b[0;34m.\u001b[0m\u001b[0mget\u001b[0m\u001b[0;34m(\u001b[0m\u001b[0;34m'ingredientes'\u001b[0m\u001b[0;34m)\u001b[0m\u001b[0;34m\u001b[0m\u001b[0;34m\u001b[0m\u001b[0m\n\u001b[0m\u001b[1;32m      4\u001b[0m \u001b[0;34m\u001b[0m\u001b[0m\n",
      "\u001b[0;31mKeyError\u001b[0m: 0"
     ]
    }
   ],
   "source": [
    "lista_de_compra = []\n",
    "for comidas in menu:\n",
    "    lista_de_compra = lista_de_compra + comidas[0].get('ingredientes')\n",
    "    "
   ]
  },
  {
   "cell_type": "code",
   "execution_count": null,
   "metadata": {},
   "outputs": [],
   "source": [
    "lista_de_compra"
   ]
  },
  {
   "cell_type": "code",
   "execution_count": null,
   "metadata": {},
   "outputs": [],
   "source": [
    "desayu"
   ]
  }
 ],
 "metadata": {
  "kernelspec": {
   "display_name": "Python 3",
   "language": "python",
   "name": "python3"
  },
  "language_info": {
   "codemirror_mode": {
    "name": "ipython",
    "version": 3
   },
   "file_extension": ".py",
   "mimetype": "text/x-python",
   "name": "python",
   "nbconvert_exporter": "python",
   "pygments_lexer": "ipython3",
   "version": "3.7.4"
  }
 },
 "nbformat": 4,
 "nbformat_minor": 2
}
