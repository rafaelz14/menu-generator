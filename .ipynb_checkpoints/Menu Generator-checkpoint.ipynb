{
 "cells": [
  {
   "cell_type": "code",
   "execution_count": 202,
   "metadata": {},
   "outputs": [],
   "source": [
    "from random import randrange"
   ]
  },
  {
   "cell_type": "code",
   "execution_count": 221,
   "metadata": {},
   "outputs": [],
   "source": [
    "desayunos = [{\n",
    "    \n",
    "    'nombre' : 'huevos con champi y jamon',\n",
    "    'ingredientes' : ['huevos', 'champis', 'jamon iberico'],\n",
    "    'carb' : False\n",
    "    \n",
    "},\n",
    "   {\n",
    "       'nombre' : 'huevos con cebolla calabacin y jamon',\n",
    "       'ingredientes': ['huevos', 'cebolla', 'calabacin', 'jamon'],\n",
    "       'carb' : False\n",
    "   },\n",
    "   {\n",
    "    \n",
    "    'nombre' : 'huevos con tomates asados',\n",
    "    'ingredientes' : ['huevos', 'tomates', 'queso feta'],\n",
    "    'carb' : False\n",
    "    \n",
    "},\n",
    "   {\n",
    "    \n",
    "    'nombre' : 'avenita',\n",
    "    'ingredientes' : ['avena', 'leche', 'canela','mantequilla de mani','frutas'],\n",
    "    'carb' : True\n",
    "    \n",
    "},\n",
    "\n",
    "   {\n",
    "    \n",
    "    'nombre' : 'panquecas de proteina',\n",
    "    'ingredientes' : ['avena', 'huevos', 'platano','chia'],\n",
    "    'carb' : True\n",
    "    \n",
    "},\n",
    "\n",
    "   {\n",
    "    \n",
    "    'nombre' : 'tosta de aguacate',\n",
    "    'ingredientes' : ['pan', 'aguacate', 'sesamo'],\n",
    "    'carb' : True\n",
    "    \n",
    "},\n",
    "\n",
    "   {\n",
    "    \n",
    "    'nombre' : 'huevos revueltos con pimenton asado',\n",
    "    'ingredientes' : ['huevos', 'pimenton rojo', 'jamon iberico'],\n",
    "    'carb' : False\n",
    "    \n",
    "},\n",
    "\n",
    "   {\n",
    "    \n",
    "    'nombre' : 'lomo adobado con vegetales',\n",
    "    'ingredientes' : ['lomo', 'champis', 'tomate'],\n",
    "    'carb' : False\n",
    "    \n",
    "},\n",
    "\n",
    "   {\n",
    "    \n",
    "    'nombre' : 'arepa de verduras',\n",
    "    'ingredientes' : ['harina pan', 'zanahoria'],\n",
    "    'carb' : True\n",
    "    \n",
    "},\n",
    "    {\n",
    "    \n",
    "    'nombre' : 'huevos con puerro',\n",
    "    'ingredientes' : ['huevos', 'puerro', 'jamon'],\n",
    "    'carb' : False\n",
    "    \n",
    "},\n",
    "    {\n",
    "    'nombre' : 'parfait',\n",
    "    'ingredientes' : ['yogur', 'avena','almendras','frutas'],\n",
    "    'carb' : True\n",
    "    \n",
    "},\n",
    "    {\n",
    "    'nombre' : 'fritatta de salmon',\n",
    "    'ingredientes' : ['huevos', 'salmon','puerro'],\n",
    "    'carb' : False\n",
    "    \n",
    "},\n",
    "    \n",
    "]"
   ]
  },
  {
   "cell_type": "code",
   "execution_count": 222,
   "metadata": {},
   "outputs": [
    {
     "data": {
      "text/plain": [
       "12"
      ]
     },
     "execution_count": 222,
     "metadata": {},
     "output_type": "execute_result"
    }
   ],
   "source": [
    "len(desayunos)"
   ]
  },
  {
   "cell_type": "code",
   "execution_count": 223,
   "metadata": {},
   "outputs": [],
   "source": [
    "almuerzos = [{\n",
    "    \n",
    "    'nombre' : 'ensalada de pollo',\n",
    "    'ingredientes' : ['verdes', 'manzana', 'pollo','almendras','queso brie'],\n",
    "    'carb' : False\n",
    "    \n",
    "},\n",
    "   {\n",
    "       'nombre' : 'ensalada de pescado',\n",
    "       'ingredientes': ['verdes', 'tomate', 'pescado', 'mostaza dijon','pepino'],\n",
    "       'carb' : False\n",
    "   },\n",
    "   {\n",
    "    \n",
    "    'nombre' : 'ensalada de camarones',\n",
    "    'ingredientes' : ['camarones congelados', 'verdes', 'pimenton','naranja','frutos rojos'],\n",
    "    'carb' : False\n",
    "    \n",
    "},\n",
    "   {\n",
    "    \n",
    "    'nombre' : 'ensalada de lentejas',\n",
    "    'ingredientes' : ['verdes', 'lentejas', 'aceitunas negras','pimenton','queso feta'],\n",
    "    'carb' : True\n",
    "    \n",
    "},\n",
    "\n",
    "   {\n",
    "    \n",
    "    'nombre' : 'ensalada fresca de huevo',\n",
    "    'ingredientes' : ['verdes', 'huevo hervido', 'jamon iberico','tomate','pepino'],\n",
    "    'carb' : False\n",
    "    \n",
    "},\n",
    "\n",
    "   {\n",
    "    \n",
    "    'nombre' : 'ensalada de garbanzo',\n",
    "    'ingredientes' : ['verdes', 'garbanzo', 'jamon iberico','tomate','pepino'],\n",
    "    'carb' : True\n",
    "    \n",
    "},\n",
    "    {\n",
    "    'nombre' : 'ensalada de pollo a la parrilla',\n",
    "    'ingredientes' : ['verdes', 'pollo', 'tomates','aguacate','cebolla'],\n",
    "    'carb' : False \n",
    "    },\n",
    "\n",
    "   {\n",
    "    \n",
    "    'nombre' : 'hamburguesa',\n",
    "    'ingredientes' : ['carne picada', 'verdes', 'tomate','queso','pepinillos'],\n",
    "    'carb' : False\n",
    "    \n",
    "},\n",
    "\n",
    "   {\n",
    "    \n",
    "    'nombre' : 'pollo al horno con veggies',\n",
    "    'ingredientes' : ['muslo de pollo deshuesado', 'cebolla', 'tomate','calabacin','pimenton'],\n",
    "    'carb' : False\n",
    "    \n",
    "},\n",
    "\n",
    "   {\n",
    "    \n",
    "    'nombre' : 'pasta integral',\n",
    "    'ingredientes' : ['carne picada', 'cebolla','lata de tomate','pimenton','puerro','pasta integral'],\n",
    "    'carb' : True\n",
    "    \n",
    "},\n",
    "    {\n",
    "    \n",
    "    'nombre' : 'bistec a la pobre',\n",
    "    'ingredientes' : ['filetes de res', 'cebolla', 'tomate'],\n",
    "    'carb' : False\n",
    "    \n",
    "},\n",
    "\n",
    "    {\n",
    "    'nombre' : 'lasagna de berenjena',\n",
    "    'ingredientes' : ['berenjena', 'tomate','ajo','cebollas','mozarella'],\n",
    "    'carb' : False\n",
    "    \n",
    "}\n",
    "    \n",
    "]"
   ]
  },
  {
   "cell_type": "code",
   "execution_count": 224,
   "metadata": {},
   "outputs": [
    {
     "data": {
      "text/plain": [
       "12"
      ]
     },
     "execution_count": 224,
     "metadata": {},
     "output_type": "execute_result"
    }
   ],
   "source": [
    "len(almuerzos)"
   ]
  },
  {
   "cell_type": "code",
   "execution_count": 225,
   "metadata": {},
   "outputs": [],
   "source": [
    "cenas = [\n",
    "    \n",
    "    {\n",
    "    \n",
    "    'nombre' : 'lomo con vegetales',\n",
    "    'ingredientes' : ['lomo de cerdo', 'cebolla', 'tomate','pimenton'],\n",
    "    'carb' : False\n",
    "    \n",
    "},\n",
    "   {\n",
    "       'nombre' : 'camarones creole',\n",
    "       'ingredientes': ['camarones', 'cebolla', 'pimenton', 'leche de coco','curcuma','curry','pimenton de la vera','comino'],\n",
    "       'carb' : False\n",
    "   },\n",
    "   {\n",
    "    \n",
    "    'nombre' : 'wok de pollo',\n",
    "    'ingredientes' : ['pechuga de pollo', 'cebolla', 'pimenton','jenjibre','salsa de soja'],\n",
    "    'carb' : False\n",
    "    \n",
    "},\n",
    "   {\n",
    "    \n",
    "    'nombre' : 'risotto de setas',\n",
    "    'ingredientes' : ['arroz', 'caldo de pollo', 'setas'],\n",
    "    'carb' : True\n",
    "    \n",
    "},\n",
    "\n",
    "   {\n",
    "    \n",
    "    'nombre' : 'trucha con esparragos',\n",
    "    'ingredientes' : ['trucha', 'esparragos'],\n",
    "    'carb' : False\n",
    "    \n",
    "},\n",
    "\n",
    "   {\n",
    "       'nombre' : 'ensalada de pescado',\n",
    "       'ingredientes': ['verdes', 'tomate', 'pescado', 'mostaza dijon','pepino'],\n",
    "       'carb' : False\n",
    "},\n",
    "    \n",
    "    {\n",
    "    'nombre' : 'plato italiano',\n",
    "    'ingredientes' : ['jamon iberico', 'aceitunas', 'pepinillos','quesos','almendras'],\n",
    "    'carb' : False \n",
    "},\n",
    "\n",
    "   {\n",
    "    \n",
    "    'nombre' : 'chile de carne',\n",
    "    'ingredientes' : ['carne picada', 'cebolla', 'tomate','pimenton','alubias rojas'],\n",
    "    'carb' : False\n",
    "    \n",
    "},\n",
    "\n",
    "   {\n",
    "    \n",
    "    'nombre' : 'taco destruido',\n",
    "    'ingredientes' : ['alubias rojas', 'cebolla', 'tomate','pimenton'],\n",
    "    'carb' : False\n",
    "    \n",
    "},\n",
    "\n",
    "   {\n",
    "    \n",
    "    'nombre' : 'lomo de cerdo con queso y ensalada',\n",
    "    'ingredientes' : ['lomo', 'queso','verdes','tomate','pepinillo'],\n",
    "    'carb' : False\n",
    "    \n",
    "},\n",
    "\n",
    "    {\n",
    "    'nombre' : 'calabacines rellenos',\n",
    "    'ingredientes' : ['calabacin', 'cebolla','queso','tomate','crema de leche'],\n",
    "    'carb' : False\n",
    "    \n",
    "},\n",
    "\n",
    "    {\n",
    "    'nombre' : 'sopa de lentejas',\n",
    "    'ingredientes' : ['lentejas', 'cebolla','pimenton'],\n",
    "    'carb' : True\n",
    "    \n",
    "},\n",
    "    \n",
    "]"
   ]
  },
  {
   "cell_type": "code",
   "execution_count": 226,
   "metadata": {},
   "outputs": [
    {
     "data": {
      "text/plain": [
       "12"
      ]
     },
     "execution_count": 226,
     "metadata": {},
     "output_type": "execute_result"
    }
   ],
   "source": [
    "len(cenas)"
   ]
  },
  {
   "cell_type": "code",
   "execution_count": null,
   "metadata": {},
   "outputs": [],
   "source": []
  },
  {
   "cell_type": "code",
   "execution_count": 227,
   "metadata": {},
   "outputs": [],
   "source": [
    "# to generate main menu\n",
    "menu =[\n",
    "{\n",
    "    'desayuno' : desayunos[(randrange(0,(len(desayunos))))],\n",
    "    'almuerzo' : almuerzos[(randrange(0,(len(almuerzos))))],\n",
    "    'cena': cenas[(randrange(0,(len(cenas))))]\n",
    "},\n",
    "{\n",
    "    'desayuno' : desayunos[(randrange(0,(len(desayunos))))],\n",
    "    'almuerzo' : almuerzos[(randrange(0,(len(almuerzos))))],\n",
    "    'cena': cenas[(randrange(0,(len(cenas))))]\n",
    "},\n",
    "{\n",
    "    'desayuno' : desayunos[(randrange(0,(len(desayunos))))],\n",
    "    'almuerzo' : almuerzos[(randrange(0,(len(almuerzos))))],\n",
    "    'cena': cenas[(randrange(0,(len(cenas))))]\n",
    "},\n",
    "{\n",
    "    'desayuno' : desayunos[(randrange(0,(len(desayunos))))],\n",
    "    'almuerzo' : almuerzos[(randrange(0,(len(almuerzos))))],\n",
    "    'cena': cenas[(randrange(0,(len(cenas))))]\n",
    "},\n",
    "{\n",
    "    'desayuno' : desayunos[(randrange(0,(len(desayunos))))],\n",
    "    'almuerzo' : almuerzos[(randrange(0,(len(almuerzos))))],\n",
    "    'cena': cenas[(randrange(0,(len(cenas))))]\n",
    "},\n",
    "{\n",
    "    'desayuno' : desayunos[(randrange(0,(len(desayunos))))],\n",
    "    'almuerzo' : almuerzos[(randrange(0,(len(almuerzos))))],\n",
    "    'cena': cenas[(randrange(0,(len(cenas))))]\n",
    "}]\n",
    "\n",
    "\n",
    "\n",
    "\n",
    "\n"
   ]
  },
  {
   "cell_type": "code",
   "execution_count": 228,
   "metadata": {
    "scrolled": false
   },
   "outputs": [
    {
     "data": {
      "text/plain": [
       "[{'desayuno': {'nombre': 'parfait',\n",
       "   'ingredientes': ['yogur', 'avena', 'almendras', 'frutas'],\n",
       "   'carb': True},\n",
       "  'almuerzo': {'nombre': 'ensalada de pollo',\n",
       "   'ingredientes': ['verdes', 'manzana', 'pollo', 'almendras', 'queso brie'],\n",
       "   'carb': False},\n",
       "  'cena': {'nombre': 'plato italiano',\n",
       "   'ingredientes': ['jamon iberico',\n",
       "    'aceitunas',\n",
       "    'pepinillos',\n",
       "    'quesos',\n",
       "    'almendras'],\n",
       "   'carb': False}},\n",
       " {'desayuno': {'nombre': 'panquecas de proteina',\n",
       "   'ingredientes': ['avena', 'huevos', 'platano', 'chia'],\n",
       "   'carb': True},\n",
       "  'almuerzo': {'nombre': 'ensalada de pollo',\n",
       "   'ingredientes': ['verdes', 'manzana', 'pollo', 'almendras', 'queso brie'],\n",
       "   'carb': False},\n",
       "  'cena': {'nombre': 'chile de carne',\n",
       "   'ingredientes': ['carne picada',\n",
       "    'cebolla',\n",
       "    'tomate',\n",
       "    'pimenton',\n",
       "    'alubias rojas'],\n",
       "   'carb': False}},\n",
       " {'desayuno': {'nombre': 'huevos con puerro',\n",
       "   'ingredientes': ['huevos', 'puerro', 'jamon'],\n",
       "   'carb': False},\n",
       "  'almuerzo': {'nombre': 'hamburguesa',\n",
       "   'ingredientes': ['carne picada', 'verdes', 'tomate', 'queso', 'pepinillos'],\n",
       "   'carb': False},\n",
       "  'cena': {'nombre': 'chile de carne',\n",
       "   'ingredientes': ['carne picada',\n",
       "    'cebolla',\n",
       "    'tomate',\n",
       "    'pimenton',\n",
       "    'alubias rojas'],\n",
       "   'carb': False}},\n",
       " {'desayuno': {'nombre': 'huevos con champi y jamon',\n",
       "   'ingredientes': ['huevos', 'champis', 'jamon iberico'],\n",
       "   'carb': False},\n",
       "  'almuerzo': {'nombre': 'hamburguesa',\n",
       "   'ingredientes': ['carne picada', 'verdes', 'tomate', 'queso', 'pepinillos'],\n",
       "   'carb': False},\n",
       "  'cena': {'nombre': 'lomo de cerdo con queso y ensalada',\n",
       "   'ingredientes': ['lomo', 'queso', 'verdes', 'tomate', 'pepinillo'],\n",
       "   'carb': False}},\n",
       " {'desayuno': {'nombre': 'fritatta de salmon',\n",
       "   'ingredientes': ['huevos', 'salmon', 'puerro'],\n",
       "   'carb': False},\n",
       "  'almuerzo': {'nombre': 'ensalada fresca de huevo',\n",
       "   'ingredientes': ['verdes',\n",
       "    'huevo hervido',\n",
       "    'jamon iberico',\n",
       "    'tomate',\n",
       "    'pepino'],\n",
       "   'carb': False},\n",
       "  'cena': {'nombre': 'lomo con vegetales',\n",
       "   'ingredientes': ['lomo de cerdo', 'cebolla', 'tomate', 'pimenton'],\n",
       "   'carb': False}},\n",
       " {'desayuno': {'nombre': 'avenita',\n",
       "   'ingredientes': ['avena',\n",
       "    'leche',\n",
       "    'canela',\n",
       "    'mantequilla de mani',\n",
       "    'frutas'],\n",
       "   'carb': True},\n",
       "  'almuerzo': {'nombre': 'ensalada de lentejas',\n",
       "   'ingredientes': ['verdes',\n",
       "    'lentejas',\n",
       "    'aceitunas negras',\n",
       "    'pimenton',\n",
       "    'queso feta'],\n",
       "   'carb': True},\n",
       "  'cena': {'nombre': 'trucha con esparragos',\n",
       "   'ingredientes': ['trucha', 'esparragos'],\n",
       "   'carb': False}}]"
      ]
     },
     "execution_count": 228,
     "metadata": {},
     "output_type": "execute_result"
    }
   ],
   "source": [
    "menu"
   ]
  },
  {
   "cell_type": "code",
   "execution_count": 229,
   "metadata": {},
   "outputs": [
    {
     "data": {
      "text/plain": [
       "{'desayuno': {'nombre': 'huevos con puerro',\n",
       "  'ingredientes': ['huevos', 'puerro', 'jamon'],\n",
       "  'carb': False},\n",
       " 'almuerzo': {'nombre': 'hamburguesa',\n",
       "  'ingredientes': ['carne picada', 'verdes', 'tomate', 'queso', 'pepinillos'],\n",
       "  'carb': False},\n",
       " 'cena': {'nombre': 'chile de carne',\n",
       "  'ingredientes': ['carne picada',\n",
       "   'cebolla',\n",
       "   'tomate',\n",
       "   'pimenton',\n",
       "   'alubias rojas'],\n",
       "  'carb': False}}"
      ]
     },
     "execution_count": 229,
     "metadata": {},
     "output_type": "execute_result"
    }
   ],
   "source": [
    "menu[2]"
   ]
  },
  {
   "cell_type": "code",
   "execution_count": 230,
   "metadata": {},
   "outputs": [],
   "source": [
    "# to get list of all meals and compare\n",
    "desayunos_list = []\n",
    "almuerzos_list = []\n",
    "cenas_list =[]\n",
    "\n",
    "for comida in range (0,len(menu)):\n",
    "    desayunos_list.append(menu[comida].get('desayuno').get('nombre'))\n",
    "    almuerzos_list.append(menu[comida].get('almuerzo').get('nombre'))\n",
    "    cenas_list.append(menu[comida].get('cena').get('nombre'))"
   ]
  },
  {
   "cell_type": "code",
   "execution_count": 191,
   "metadata": {},
   "outputs": [
    {
     "data": {
      "text/plain": [
       "['tosta de aguacate',\n",
       " 'huevos con champi y jamon',\n",
       " 'huevos con tomates asados',\n",
       " 'huevos con tomates asados',\n",
       " 'panquecas de proteina',\n",
       " 'fritatta de salmon']"
      ]
     },
     "execution_count": 191,
     "metadata": {},
     "output_type": "execute_result"
    }
   ],
   "source": [
    "desayunos_list"
   ]
  },
  {
   "cell_type": "code",
   "execution_count": 231,
   "metadata": {},
   "outputs": [
    {
     "data": {
      "text/plain": [
       "['parfait',\n",
       " 'panquecas de proteina',\n",
       " 'huevos con puerro',\n",
       " 'huevos con champi y jamon',\n",
       " 'fritatta de salmon',\n",
       " 'avenita']"
      ]
     },
     "execution_count": 231,
     "metadata": {},
     "output_type": "execute_result"
    }
   ],
   "source": [
    "desayunos_list"
   ]
  },
  {
   "cell_type": "code",
   "execution_count": 232,
   "metadata": {},
   "outputs": [
    {
     "data": {
      "text/plain": [
       "['ensalada de pollo',\n",
       " 'ensalada de pollo',\n",
       " 'hamburguesa',\n",
       " 'hamburguesa',\n",
       " 'ensalada fresca de huevo',\n",
       " 'ensalada de lentejas']"
      ]
     },
     "execution_count": 232,
     "metadata": {},
     "output_type": "execute_result"
    }
   ],
   "source": [
    "almuerzos_list"
   ]
  },
  {
   "cell_type": "code",
   "execution_count": 233,
   "metadata": {},
   "outputs": [],
   "source": [
    "# to replace item in menu\n",
    "menu[3]['cena'] = cenas[(randrange(0,(len(cenas))))]"
   ]
  },
  {
   "cell_type": "code",
   "execution_count": 192,
   "metadata": {},
   "outputs": [
    {
     "data": {
      "text/plain": [
       "['ensalada de garbanzo',\n",
       " 'pollo al horno con veggies',\n",
       " 'ensalada de camarones',\n",
       " 'ensalada de camarones',\n",
       " 'pasta integral',\n",
       " 'ensalada de garbanzo']"
      ]
     },
     "execution_count": 192,
     "metadata": {},
     "output_type": "execute_result"
    }
   ],
   "source": [
    "almuerzos_list"
   ]
  },
  {
   "cell_type": "code",
   "execution_count": 234,
   "metadata": {},
   "outputs": [
    {
     "data": {
      "text/plain": [
       "['plato italiano',\n",
       " 'chile de carne',\n",
       " 'chile de carne',\n",
       " 'lomo de cerdo con queso y ensalada',\n",
       " 'lomo con vegetales',\n",
       " 'trucha con esparragos']"
      ]
     },
     "execution_count": 234,
     "metadata": {},
     "output_type": "execute_result"
    }
   ],
   "source": [
    "cenas_list"
   ]
  },
  {
   "cell_type": "code",
   "execution_count": null,
   "metadata": {},
   "outputs": [],
   "source": []
  },
  {
   "cell_type": "code",
   "execution_count": 199,
   "metadata": {},
   "outputs": [
    {
     "data": {
      "text/plain": [
       "{'desayuno': {'nombre': 'huevos con tomates asados',\n",
       "  'ingredientes': ['huevos', 'tomates', 'queso feta'],\n",
       "  'carb': False},\n",
       " 'almuerzo': {'nombre': 'ensalada de camarones',\n",
       "  'ingredientes': ['camarones congelados',\n",
       "   'verdes',\n",
       "   'pimenton',\n",
       "   'naranja',\n",
       "   'frutos rojos'],\n",
       "  'carb': False},\n",
       " 'cena': {'nombre': 'wok de pollo',\n",
       "  'ingredientes': ['pechuga de pollo',\n",
       "   'cebolla',\n",
       "   'pimenton',\n",
       "   'jenjibre',\n",
       "   'salsa de soja'],\n",
       "  'carb': False}}"
      ]
     },
     "execution_count": 199,
     "metadata": {},
     "output_type": "execute_result"
    }
   ],
   "source": [
    "menu[3]"
   ]
  },
  {
   "cell_type": "code",
   "execution_count": 193,
   "metadata": {},
   "outputs": [
    {
     "data": {
      "text/plain": [
       "['calabacines rellenos',\n",
       " 'chile de carne',\n",
       " 'taco destruido',\n",
       " 'camarones creole',\n",
       " 'sopa de lentejas',\n",
       " 'lomo con vegetales']"
      ]
     },
     "execution_count": 193,
     "metadata": {},
     "output_type": "execute_result"
    }
   ],
   "source": [
    "cenas_list"
   ]
  },
  {
   "cell_type": "code",
   "execution_count": 170,
   "metadata": {},
   "outputs": [],
   "source": [
    "menu[4]['cenas'] = cenas[(randrange(0,(len(cenas))))]"
   ]
  },
  {
   "cell_type": "code",
   "execution_count": 171,
   "metadata": {},
   "outputs": [
    {
     "data": {
      "text/plain": [
       "{'nombre': 'sopa de lentejas',\n",
       " 'ingredientes': ['lentejas', 'cebolla', 'pimenton'],\n",
       " 'carb': True}"
      ]
     },
     "execution_count": 171,
     "metadata": {},
     "output_type": "execute_result"
    }
   ],
   "source": [
    "menu[4].get('cena')"
   ]
  },
  {
   "cell_type": "markdown",
   "metadata": {},
   "source": []
  },
  {
   "cell_type": "code",
   "execution_count": 127,
   "metadata": {},
   "outputs": [
    {
     "data": {
      "text/plain": [
       "'trucha con esparragos'"
      ]
     },
     "execution_count": 127,
     "metadata": {},
     "output_type": "execute_result"
    }
   ],
   "source": [
    "menu[3]"
   ]
  },
  {
   "cell_type": "code",
   "execution_count": 105,
   "metadata": {},
   "outputs": [
    {
     "name": "stdout",
     "output_type": "stream",
     "text": [
      "huevos con puerro\n",
      "ensalada de pescado\n",
      "lomo con vegetales\n",
      "huevos con champi y jamon\n",
      "hamburguesa\n",
      "trucha con esparragos\n",
      "huevos con cebolla calabacin y jamon\n",
      "pasta integral\n",
      "sopa de lentejas\n",
      "avenita\n",
      "ensalada de pollo a la parrilla\n",
      "sopa de lentejas\n",
      "fritatta de salmon\n",
      "ensalada de garbanzo\n",
      "risotto de setas\n",
      "parfait\n",
      "ensalada fresca de huevo\n",
      "plato italiano\n"
     ]
    }
   ],
   "source": [
    "for comida in range (0,len(menu)):\n",
    "    print (menu[comida].get('desayuno').get('nombre'))\n",
    "    print (menu[comida].get('almuerzo').get('nombre'))\n",
    "    print (menu[comida].get('cena').get('nombre'))"
   ]
  },
  {
   "cell_type": "code",
   "execution_count": 97,
   "metadata": {},
   "outputs": [
    {
     "name": "stdout",
     "output_type": "stream",
     "text": [
      "['huevos', 'puerro', 'jamon']\n",
      "['verdes', 'tomate', 'pescado', 'mostaza dijon', 'pepino']\n",
      "['lomo de cerdo', 'cebolla', 'tomate', 'pimenton']\n",
      "['huevos', 'champis', 'jamon iberico']\n",
      "['carne picada', 'verdes', 'tomate', 'queso', 'pepinillos']\n",
      "['trucha', 'esparragos']\n",
      "['huevos', 'cebolla', 'calabacin', 'jamon']\n",
      "['carne picada', 'cebolla', 'lata de tomate', 'pimenton', 'puerro', 'pasta integral']\n",
      "['lentejas', 'cebolla', 'pimenton']\n",
      "['avena', 'leche', 'canela', 'mantequilla de mani', 'frutas']\n",
      "['verdes', 'pollo', 'tomates', 'aguacate', 'cebolla']\n",
      "['lentejas', 'cebolla', 'pimenton']\n",
      "['huevos', 'salmon', 'puerro']\n",
      "['verdes', 'garbanzo', 'jamon iberico', 'tomate', 'pepino']\n",
      "['arroz', 'caldo de pollo', 'setas']\n",
      "['yogur', 'avena', 'almendras', 'frutas']\n",
      "['verdes', 'huevo hervido', 'jamon iberico', 'tomate', 'pepino']\n",
      "['jamon iberico', 'aceitunas', 'pepinillos', 'quesos', 'almendras']\n"
     ]
    }
   ],
   "source": [
    "for comida in range (0,len(menu)):\n",
    "    print (menu[comida].get('desayuno').get('ingredientes'))\n",
    "    print (menu[comida].get('almuerzo').get('ingredientes'))\n",
    "    print (menu[comida].get('cena').get('ingredientes'))"
   ]
  },
  {
   "cell_type": "code",
   "execution_count": null,
   "metadata": {},
   "outputs": [],
   "source": []
  },
  {
   "cell_type": "code",
   "execution_count": null,
   "metadata": {},
   "outputs": [],
   "source": []
  },
  {
   "cell_type": "code",
   "execution_count": 43,
   "metadata": {},
   "outputs": [
    {
     "data": {
      "text/plain": [
       "'huevos con champi y jamon'"
      ]
     },
     "execution_count": 43,
     "metadata": {},
     "output_type": "execute_result"
    }
   ],
   "source": [
    "desayunos[0].get('nombre')"
   ]
  },
  {
   "cell_type": "code",
   "execution_count": 18,
   "metadata": {},
   "outputs": [
    {
     "data": {
      "text/plain": [
       "11"
      ]
     },
     "execution_count": 18,
     "metadata": {},
     "output_type": "execute_result"
    }
   ],
   "source": [
    "len(desayunos)"
   ]
  },
  {
   "cell_type": "code",
   "execution_count": 56,
   "metadata": {},
   "outputs": [],
   "source": [
    "menu = [desayunos, almuerzos, cenas]"
   ]
  },
  {
   "cell_type": "code",
   "execution_count": 58,
   "metadata": {},
   "outputs": [],
   "source": [
    "lista_de_compra = []\n",
    "for comidas in menu:\n",
    "    lista_de_compra = lista_de_compra + comidas[0].get('ingredientes')\n",
    "    "
   ]
  },
  {
   "cell_type": "code",
   "execution_count": 60,
   "metadata": {},
   "outputs": [
    {
     "data": {
      "text/plain": [
       "['huevos',\n",
       " 'champis',\n",
       " 'jamon iberico',\n",
       " 'verdes',\n",
       " 'manzana',\n",
       " 'pollo',\n",
       " 'almendras',\n",
       " 'queso brie',\n",
       " 'lomo de cerdo',\n",
       " 'cebolla',\n",
       " 'tomate',\n",
       " 'pimenton']"
      ]
     },
     "execution_count": 60,
     "metadata": {},
     "output_type": "execute_result"
    }
   ],
   "source": [
    "lista_de_compra"
   ]
  },
  {
   "cell_type": "code",
   "execution_count": null,
   "metadata": {},
   "outputs": [],
   "source": [
    "desayu"
   ]
  }
 ],
 "metadata": {
  "kernelspec": {
   "display_name": "Python 3",
   "language": "python",
   "name": "python3"
  },
  "language_info": {
   "codemirror_mode": {
    "name": "ipython",
    "version": 3
   },
   "file_extension": ".py",
   "mimetype": "text/x-python",
   "name": "python",
   "nbconvert_exporter": "python",
   "pygments_lexer": "ipython3",
   "version": "3.7.4"
  }
 },
 "nbformat": 4,
 "nbformat_minor": 2
}
